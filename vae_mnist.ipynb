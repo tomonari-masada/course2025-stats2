{
  "cells": [
    {
      "cell_type": "markdown",
      "metadata": {
        "id": "view-in-github",
        "colab_type": "text"
      },
      "source": [
        "<a href=\"https://colab.research.google.com/github/tomonari-masada/course2025-stats2/blob/main/vae_mnist.ipynb\" target=\"_parent\"><img src=\"https://colab.research.google.com/assets/colab-badge.svg\" alt=\"Open In Colab\"/></a>"
      ]
    },
    {
      "cell_type": "code",
      "execution_count": null,
      "id": "215447e1",
      "metadata": {
        "id": "215447e1"
      },
      "outputs": [],
      "source": [
        "import matplotlib.pyplot as plt\n",
        "from sklearn.datasets import fetch_openml\n",
        "import torch\n",
        "import torch.nn as nn\n",
        "\n",
        "device = torch.device(\"cuda\" if torch.cuda.is_available() else \"cpu\")"
      ]
    },
    {
      "cell_type": "code",
      "execution_count": null,
      "id": "9fd4245d",
      "metadata": {
        "id": "9fd4245d"
      },
      "outputs": [],
      "source": [
        "X, y = fetch_openml(\"mnist_784\", version=1, return_X_y=True, as_frame=False)\n",
        "\n",
        "X_train, X_test = X[:60000], X[60000:]\n",
        "y_train, y_test = y[:60000], y[60000:]"
      ]
    },
    {
      "cell_type": "code",
      "source": [
        "X_train = X_train / 255.0\n",
        "X_test = X_test / 255.0"
      ],
      "metadata": {
        "id": "zBMjRZl43gNd"
      },
      "id": "zBMjRZl43gNd",
      "execution_count": null,
      "outputs": []
    },
    {
      "cell_type": "code",
      "execution_count": null,
      "id": "67542ffc",
      "metadata": {
        "id": "67542ffc"
      },
      "outputs": [],
      "source": [
        "X_train = torch.tensor(X_train, dtype=torch.float32, device=device)\n",
        "X_test = torch.tensor(X_test, dtype=torch.float32, device=device)\n",
        "y_train = torch.tensor([int(y_i) for y_i in y_train], dtype=torch.int64, device=device)\n",
        "y_test = torch.tensor([int(y_i) for y_i in y_test], dtype=torch.int64, device=device)"
      ]
    },
    {
      "cell_type": "code",
      "execution_count": null,
      "id": "3c54eceb",
      "metadata": {
        "id": "3c54eceb"
      },
      "outputs": [],
      "source": [
        "encoder = nn.Sequential(\n",
        "    nn.Linear(784, 400),\n",
        "    nn.Linear(400, 200),\n",
        ").to(device)\n",
        "decoder = nn.Sequential(\n",
        "    nn.Linear(100, 400),\n",
        "    nn.Linear(400, 784),\n",
        ").to(device)"
      ]
    },
    {
      "cell_type": "code",
      "execution_count": null,
      "id": "562c113f",
      "metadata": {
        "id": "562c113f"
      },
      "outputs": [],
      "source": [
        "def vae_forward(x, return_latents=False):\n",
        "    z = encoder(x)\n",
        "    mu, logvar = z.chunk(2, dim=-1)\n",
        "    z = mu + torch.exp(logvar / 2) * torch.randn_like(mu)\n",
        "    x_reconstructed = decoder(z)\n",
        "    if return_latents:\n",
        "        return x_reconstructed, mu, logvar, z\n",
        "    else:\n",
        "        return x_reconstructed, mu, logvar"
      ]
    },
    {
      "cell_type": "code",
      "execution_count": null,
      "id": "8cf4e3c5",
      "metadata": {
        "id": "8cf4e3c5"
      },
      "outputs": [],
      "source": [
        "def vae_loss(x, x_reconstructed, mu, logvar, kl_weight=1.0):\n",
        "    reconstruction_loss = nn.functional.binary_cross_entropy_with_logits(x_reconstructed, x, reduction='sum')\n",
        "    kl_divergence = -0.5 * torch.sum(1 + logvar - mu.pow(2) - logvar.exp())\n",
        "    return reconstruction_loss + kl_weight * kl_divergence"
      ]
    },
    {
      "cell_type": "code",
      "execution_count": null,
      "id": "07193df2",
      "metadata": {
        "id": "07193df2"
      },
      "outputs": [],
      "source": [
        "optimizer = torch.optim.Adam(list(encoder.parameters()) + list(decoder.parameters()), lr=1e-3)\n",
        "\n",
        "batch_size = 1000\n",
        "kl_weight = batch_size / X_train.size(0)\n",
        "\n",
        "num_epochs = 100\n",
        "for epoch in range(num_epochs):\n",
        "    shuffle_indices = torch.randperm(X_train.size(0))\n",
        "    for i in range(0, X_train.size(0), batch_size):\n",
        "        indices = shuffle_indices[i:i + batch_size]\n",
        "        X_batch = X_train[indices]\n",
        "        X_reconstructed, mu, logvar = vae_forward(X_batch)\n",
        "        loss = vae_loss(X_batch, X_reconstructed, mu, logvar, kl_weight=kl_weight)\n",
        "        optimizer.zero_grad()\n",
        "        loss.backward()\n",
        "        optimizer.step()\n",
        "    if (epoch + 1) % 10 == 0:\n",
        "        print(f'Epoch [{epoch + 1}/{num_epochs}], Loss: {loss.item():.4f}')"
      ]
    },
    {
      "cell_type": "code",
      "execution_count": null,
      "id": "e01eda0f",
      "metadata": {
        "id": "e01eda0f"
      },
      "outputs": [],
      "source": [
        "X_reconstructed, _, _, z = vae_forward(X_test, return_latents=True)\n",
        "X_reconstructed = X_reconstructed.detach().cpu().numpy()"
      ]
    },
    {
      "cell_type": "code",
      "source": [
        "plt.imshow(X_reconstructed[0].reshape(28, 28), cmap='gray')\n",
        "plt.show()"
      ],
      "metadata": {
        "id": "eVX92JpE7Aio"
      },
      "id": "eVX92JpE7Aio",
      "execution_count": null,
      "outputs": []
    },
    {
      "cell_type": "code",
      "execution_count": null,
      "id": "d21de35e",
      "metadata": {
        "id": "d21de35e"
      },
      "outputs": [],
      "source": [
        "def visualize_reconstruction(X_test, X_reconstructed, test_image_index=0):\n",
        "    plt.figure(figsize=(10, 5))\n",
        "    plt.subplot(1, 2, 1)\n",
        "    plt.imshow(X_test[test_image_index].reshape(28, 28), cmap='gray')\n",
        "    plt.title('Original Image')\n",
        "    plt.subplot(1, 2, 2)\n",
        "    plt.imshow(X_reconstructed[test_image_index].reshape(28, 28), cmap='gray')\n",
        "    plt.title('Reconstructed Image')\n",
        "    plt.show()"
      ]
    },
    {
      "cell_type": "code",
      "execution_count": null,
      "id": "26d78f4b",
      "metadata": {
        "id": "26d78f4b"
      },
      "outputs": [],
      "source": [
        "visualize_reconstruction(X_test.cpu(), X_reconstructed, test_image_index=0)"
      ]
    },
    {
      "cell_type": "code",
      "execution_count": null,
      "id": "dd030e6c",
      "metadata": {
        "id": "dd030e6c"
      },
      "outputs": [],
      "source": [
        "visualize_reconstruction(X_test.cpu(), X_reconstructed, test_image_index=100)"
      ]
    },
    {
      "cell_type": "code",
      "execution_count": null,
      "id": "ee28273b",
      "metadata": {
        "id": "ee28273b"
      },
      "outputs": [],
      "source": [
        "# interpolate between two points in latent space\n",
        "def interpolate_latent_space(z1, z2, num_steps=20):\n",
        "    z1 = z1.unsqueeze(0)\n",
        "    z2 = z2.unsqueeze(0)\n",
        "    interpolated = []\n",
        "    for alpha in torch.linspace(0, 1, num_steps):\n",
        "        z_interp = (1 - alpha) * z1 + alpha * z2\n",
        "        x_reconstructed = decoder(z_interp)\n",
        "        interpolated.append(x_reconstructed.cpu().detach().numpy())\n",
        "    return interpolated"
      ]
    },
    {
      "cell_type": "code",
      "execution_count": null,
      "id": "aaa60dd3",
      "metadata": {
        "id": "aaa60dd3"
      },
      "outputs": [],
      "source": [
        "interpolated_images = interpolate_latent_space(z[0], z[100])"
      ]
    },
    {
      "cell_type": "code",
      "execution_count": null,
      "id": "52064e5d",
      "metadata": {
        "id": "52064e5d"
      },
      "outputs": [],
      "source": [
        "for i, img in enumerate(interpolated_images):\n",
        "    plt.subplot(1, len(interpolated_images), i + 1)\n",
        "    plt.imshow(img.reshape(28, 28), cmap='gray')\n",
        "    plt.axis('off')\n",
        "plt.show()"
      ]
    },
    {
      "cell_type": "code",
      "execution_count": null,
      "id": "13c93393",
      "metadata": {
        "id": "13c93393"
      },
      "outputs": [],
      "source": []
    }
  ],
  "metadata": {
    "kernelspec": {
      "display_name": "Python 3",
      "name": "python3"
    },
    "language_info": {
      "codemirror_mode": {
        "name": "ipython",
        "version": 3
      },
      "file_extension": ".py",
      "mimetype": "text/x-python",
      "name": "python",
      "nbconvert_exporter": "python",
      "pygments_lexer": "ipython3",
      "version": "3.12.10"
    },
    "colab": {
      "provenance": [],
      "gpuType": "T4",
      "include_colab_link": true
    },
    "accelerator": "GPU"
  },
  "nbformat": 4,
  "nbformat_minor": 5
}